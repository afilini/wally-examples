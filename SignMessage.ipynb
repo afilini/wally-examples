{
 "cells": [
  {
   "cell_type": "code",
   "execution_count": 1,
   "metadata": {},
   "outputs": [
    {
     "name": "stdout",
     "output_type": "stream",
     "text": [
      "Signature 6ZIiMC1srws6eg5D+W6F/meWc6C0QGgI8kAVEukN7tZED7+mtQOO2wPTqiOLNUTgoyp+NP2vmiZi2PVRVG06JA==\n",
      "Checking signature: OK\n"
     ]
    }
   ],
   "source": [
    "import os\n",
    "import base64\n",
    "import wallycore as wally\n",
    "\n",
    "h2b = wally.hex_to_bytes\n",
    "b2h = wally.hex_from_bytes\n",
    "\n",
    "privkey = h2b('7a6a755404f98d5f795bd32bf6aea238a28c7874acea11369919bd628ec16b6b')\n",
    "pubkey = h2b('02747372f49c4fbc14dc02e409525538e3cb0b0258c409c41a7dfa78a60a2be6b4')\n",
    "\n",
    "message = \"pippo\"\n",
    "message = message.encode('utf-8')\n",
    "\n",
    "wally_BITCOIN_MESSAGE_HASH_FLAG = 1\n",
    "formatted = wally.format_bitcoin_message(message, wally_BITCOIN_MESSAGE_HASH_FLAG)\n",
    "\n",
    "signature = wally.ec_sig_from_bytes(privkey, formatted, wally.EC_FLAG_ECDSA)\n",
    "signature = base64.b64encode(signature).decode('ascii')\n",
    "print(\"Signature {}\".format(signature))\n",
    "\n",
    "signature = base64.b64decode(signature.encode('ascii'))\n",
    "\n",
    "try:\n",
    "    res = wally.ec_sig_verify(pubkey, formatted, wally.EC_FLAG_ECDSA, signature)\n",
    "    print(\"Checking signature: OK\")\n",
    "except ValueError:\n",
    "    print(\"Checking signature: ERROR\")"
   ]
  }
 ],
 "metadata": {
  "kernelspec": {
   "display_name": "Python 3",
   "language": "python",
   "name": "python3"
  },
  "language_info": {
   "codemirror_mode": {
    "name": "ipython",
    "version": 3
   },
   "file_extension": ".py",
   "mimetype": "text/x-python",
   "name": "python",
   "nbconvert_exporter": "python",
   "pygments_lexer": "ipython3",
   "version": "3.7.4"
  }
 },
 "nbformat": 4,
 "nbformat_minor": 4
}
