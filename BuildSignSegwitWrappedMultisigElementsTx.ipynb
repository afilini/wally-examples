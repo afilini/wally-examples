{
 "cells": [
  {
   "cell_type": "code",
   "execution_count": 1,
   "metadata": {},
   "outputs": [],
   "source": [
    "import wallycore as wally"
   ]
  },
  {
   "cell_type": "code",
   "execution_count": 2,
   "metadata": {},
   "outputs": [],
   "source": [
    "def buildTransaction(tx_inputs, tx_outputs):\n",
    "    tx = wally.tx_init(2, 0, 1, 2) # version 2, locktime 0, 1 input, 2 outputs\n",
    "\n",
    "    for tx_input in tx_inputs:\n",
    "        wally.tx_add_input(tx, tx_input)\n",
    "\n",
    "    for tx_output in tx_outputs:\n",
    "        wally.tx_add_output(tx, tx_output)\n",
    "        \n",
    "    return tx\n",
    "    \n",
    "def buildInput(tx_input_hex, tx_input_vout, sequence):\n",
    "    tx_input_byte = wally.hex_to_bytes(tx_input_hex)[::-1]\n",
    "    return wally.tx_elements_input_init(tx_input_byte, tx_input_vout, sequence, None, None, None, None, None, None, None, None, None)\n",
    "\n",
    "def buildOutput(value, asset_id, script_byte):\n",
    "    confidential_tx_value_byte = wally.tx_confidential_value_from_satoshi(value)\n",
    "    return wally.tx_elements_output_init(script_byte, asset_id, confidential_tx_value_byte, None, None, None)"
   ]
  },
  {
   "cell_type": "code",
   "execution_count": 3,
   "metadata": {},
   "outputs": [
    {
     "name": "stdout",
     "output_type": "stream",
     "text": [
      "020000000001364c0e223e492a7dab5424d70d9929e847e1f25ce45f2b52165bef5ec14b17530000000000ffffffff0201f7a0b1caddd3e08130d48ab5e2809365569e382a2d57745339be0fee7dd6569e010000000000003039001976a9144f844a62154987b501dccfd6c504596759e9f24888ac01f7a0b1caddd3e08130d48ab5e2809365569e382a2d57745339be0fee7dd6569e0100000000000001f4000000000000\n"
     ]
    }
   ],
   "source": [
    "ELEMENTS_UNBLINDED_TX_PREFIX = 0x01    \n",
    "\n",
    "tx_input_hex = \"53174bc15eef5b16522b5fe45cf2e147e829990dd72454ab7d2a493e220e4c36\"\n",
    "asset_id = bytearray([ELEMENTS_UNBLINDED_TX_PREFIX]) + wally.hex_to_bytes(\"9e56d67dee0fbe395374572d2a389e56659380e2b58ad43081e0d3ddcab1a0f7\")[::-1]\n",
    "script = wally.hex_to_bytes(\"76a9144f844a62154987b501dccfd6c504596759e9f24888ac\")\n",
    "sequence = 0xffffffff\n",
    "\n",
    "tx_inputs = [buildInput(tx_input_hex, 0, sequence)]\n",
    "tx_outputs = [buildOutput(12345, asset_id, script), buildOutput(500, asset_id, None)]\n",
    "\n",
    "tx = buildTransaction(tx_inputs, tx_outputs)\n",
    "\n",
    "tx_hex = wally.tx_to_hex(tx, 0)\n",
    "print(tx_hex)"
   ]
  },
  {
   "cell_type": "code",
   "execution_count": 4,
   "metadata": {},
   "outputs": [],
   "source": [
    "def generateRedeemScript(private_keys, threshold):\n",
    "    public_keys = bytearray([])\n",
    "    for private_key in private_keys:\n",
    "        public_key  = wally.ec_public_key_from_private_key(private_key)\n",
    "        public_keys += public_key\n",
    "    return wally.scriptpubkey_multisig_from_bytes(public_keys, threshold, 0)"
   ]
  },
  {
   "cell_type": "code",
   "execution_count": 5,
   "metadata": {},
   "outputs": [],
   "source": [
    "def signInputs(tx, private_keys, input_values, prev_out_scripts, sighashes):  \n",
    "    for index, (private_keys, input_value, prev_out_script, sighash) in enumerate(zip(private_keys, input_values, prev_out_scripts, sighashes)):\n",
    "        witness_stack = wally.tx_witness_stack_init(len(private_keys) + 2)\n",
    "        wally.tx_witness_stack_add_dummy(witness_stack, wally.WALLY_TX_DUMMY_NULL);\n",
    "        \n",
    "        input_value = wally.tx_confidential_value_from_satoshi(input_value);\n",
    "        hash_to_sign = wally.tx_get_elements_signature_hash(tx, index, prev_out_script, input_value, sighash, wally.WALLY_TX_FLAG_USE_WITNESS)\n",
    "        \n",
    "        for private_key in private_keys:\n",
    "            public_key  = wally.ec_public_key_from_private_key(private_key)\n",
    "            signature = wally.ec_sig_from_bytes(private_key, hash_to_sign, wally.EC_FLAG_ECDSA | wally.EC_FLAG_GRIND_R)\n",
    "            der_signature = wally.ec_sig_to_der(signature) + bytearray([wally.WALLY_SIGHASH_ALL])\n",
    "            wally.tx_witness_stack_add(witness_stack, der_signature)\n",
    "        \n",
    "        wally.tx_witness_stack_add(witness_stack, prev_out_script)\n",
    "        script_sig = bytearray([0x22, 0x00, 0x20]) + wally.sha256(prev_out_script)\n",
    "        wally.tx_set_input_script(tx, index, script_sig)\n",
    "        wally.tx_set_input_witness(tx, index, witness_stack)\n"
   ]
  },
  {
   "cell_type": "code",
   "execution_count": 6,
   "metadata": {},
   "outputs": [
    {
     "name": "stdout",
     "output_type": "stream",
     "text": [
      "020000000101364c0e223e492a7dab5424d70d9929e847e1f25ce45f2b52165bef5ec14b175300000000232200204773ea668c1f16dffbaa5bc11e351f3aa119dc139dc6c1587fa1155e331103d6ffffffff0201f7a0b1caddd3e08130d48ab5e2809365569e382a2d57745339be0fee7dd6569e010000000000003039001976a9144f844a62154987b501dccfd6c504596759e9f24888ac01f7a0b1caddd3e08130d48ab5e2809365569e382a2d57745339be0fee7dd6569e0100000000000001f40000000000000000040047304402200592d11c2c7ef665a1ad78696deb7f05668ec33d22f1a68c4339bb77b51f2b1002200dc973d237df49ce3764d715264bd21682917d249062e1a5ccb685e6d56371f301473044022076a9968f665f075ec63e02114d653d3d5396e37048df6df027d631990e1984ce02201600fa00a73e15190c2b9715369bbb23e2c75c979080872c4607379e48593adc01695221037a840b5e5d903093671dca125b0bfde0a784a44ccb990be90f680fa14460e52d2103b5c9d5b8a930f78780b614d53db72ba4798d2cd6cdeb252f9a6347bf6c680e372102b453acd83aa9b9e29e5ec64e3283b189e84f8faa20dd5fb553ee41b7218d24f953ae0000000000\n"
     ]
    }
   ],
   "source": [
    "private_keys = [wally.hex_to_bytes(\"d23388f6ed69564cbd7518bde279bcffac2156aeea024fe527726d7b5250d461\"), wally.hex_to_bytes(\"c1c4cfce079a36bd8d1d37b0342cc16f1bd3e5e29d5750601b27ba5e82cb6741\"), wally.hex_to_bytes(\"2554c3ee6bea1073cfe6b9cd94328eb6c7ac510af67c1371f7e379563e02303c\")]\n",
    "redeem_script = generateRedeemScript(private_keys, 2)\n",
    "signInputs(tx, [private_keys[:2]], [12845], [redeem_script], [wally.WALLY_SIGHASH_ALL])\n",
    "\n",
    "tx_hex = wally.tx_to_hex(tx, wally.WALLY_TX_FLAG_USE_WITNESS)\n",
    "print(tx_hex)"
   ]
  }
 ],
 "metadata": {
  "kernelspec": {
   "display_name": "Python 3",
   "language": "python",
   "name": "python3"
  },
  "language_info": {
   "codemirror_mode": {
    "name": "ipython",
    "version": 3
   },
   "file_extension": ".py",
   "mimetype": "text/x-python",
   "name": "python",
   "nbconvert_exporter": "python",
   "pygments_lexer": "ipython3",
   "version": "3.7.4"
  }
 },
 "nbformat": 4,
 "nbformat_minor": 2
}
