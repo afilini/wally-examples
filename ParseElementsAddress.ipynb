{
 "cells": [
  {
   "cell_type": "code",
   "execution_count": 1,
   "metadata": {},
   "outputs": [],
   "source": [
    "import wallycore as w"
   ]
  },
  {
   "cell_type": "code",
   "execution_count": 2,
   "metadata": {},
   "outputs": [],
   "source": [
    "PREFIXES = {\n",
    "        \"LIQUID\" : {\"P2PKH\": 57, \"P2SH\" : 39, \"BECH32\" : \"lq\", \"BLINDED\": 12},\n",
    "        \"LIQUID-REGTEST\" : {\"P2PKH\": 235, \"P2SH\" : 75, \"BECH32\" : \"tb\", \"BLINDED\": 4}, \n",
    "}"
   ]
  },
  {
   "cell_type": "code",
   "execution_count": 3,
   "metadata": {},
   "outputs": [],
   "source": [
    "def find_address_type(address_string):\n",
    "    for network in PREFIXES:\n",
    "        if PREFIXES[network][\"BECH32\"] == address_string[:2].lower():\n",
    "            print(address_string)\n",
    "            return (network, \"BECH32\")\n",
    "\n",
    "    try:\n",
    "        address_bytes = w.base58_to_bytes(address_string, w.BASE58_FLAG_CHECKSUM)\n",
    "        if len(address_bytes) != 21 and len(address_bytes) != 55:\n",
    "            raise Exception(\"Invalid length\")\n",
    "        first_byte = address_bytes[0]\n",
    "        for network in PREFIXES:\n",
    "            for address_type in PREFIXES[network]:\n",
    "                if PREFIXES[network][address_type] == first_byte:\n",
    "                    return (network, address_type)\n",
    "    except:\n",
    "        pass\n",
    "    \n",
    "    raise Exception(\"Invalid address\")"
   ]
  },
  {
   "cell_type": "code",
   "execution_count": 4,
   "metadata": {},
   "outputs": [],
   "source": [
    "def extract_data_bech32(address_string, network):\n",
    "    return w.addr_segwit_to_bytes(address_string, PREFIXES[network][\"BECH32\"], 0)\n",
    "\n",
    "def extract_data(address_string): \n",
    "    address_bytes = w.base58_to_bytes(address_string, w.BASE58_FLAG_CHECKSUM)\n",
    "    return address_bytes[1:]\n",
    "\n",
    "def unpack_blinded(address_string, network):\n",
    "    return (w.confidential_addr_to_addr(address_string, PREFIXES[network][\"BLINDED\"]), \n",
    "           w.confidential_addr_to_ec_public_key(address_string, PREFIXES[network][\"BLINDED\"]))"
   ]
  },
  {
   "cell_type": "code",
   "execution_count": 5,
   "metadata": {},
   "outputs": [],
   "source": [
    "def get_script_pub_key(address_string):\n",
    "    (network, address_type) = find_address_type(address_string)\n",
    "    if address_type == \"BECH32\":\n",
    "        #TODO: currently unsupported in wally\n",
    "        raise Exception(\"Unsupported\")\n",
    "    \n",
    "    pubkey = None\n",
    "    if address_type == \"BLINDED\":\n",
    "        (address_string, pubkey) = unpack_blinded(address_string, network)\n",
    "        (network, address_type) = find_address_type(address_string)\n",
    "        \n",
    "    data = extract_data(address_string)\n",
    "    if address_type == \"P2PKH\":\n",
    "        #<ScriptPubKey=OP_DUP OP_HASH160<Public KeyHash> OP_EQUAL OP_CHECKSIG\n",
    "        return (bytearray([w.OP_DUP, w.OP_HASH160, 20]) + data + bytearray([w.OP_EQUAL, w.OP_CHECKSIG]), pubkey, network) \n",
    "        \n",
    "    if address_type == \"P2SH\":\n",
    "        #<ScriptPubKey=OP_HASH160<ScriptHash> OP_EQUAL\n",
    "        return (bytearray([w.OP_HASH160, 20]) + data + bytearray([w.OP_EQUAL]), pubkey, network)\n"
   ]
  },
  {
   "cell_type": "code",
   "execution_count": 6,
   "metadata": {},
   "outputs": [
    {
     "name": "stdout",
     "output_type": "stream",
     "text": [
      "QLFdUboUPJnUzvsXKu83hUtrQ1DuxyggRg -> 76a914fc26751a5025129a2fd006c6fbfa598ddd67f7e187ac UNBLINDED LIQUID\n",
      "VJLK52qZR5tgHBAQzqtwSDq9qSUpy1CWQd2KbMGvaZA9jKmEcxRnEUXiMb9jijFSMbC3TKzbRbLLcDjo -> a9146cf0e62c6767358928dd2f63f0640ddef21743d187 03f349509ef21c2f6fca81dfc04df7219b234b6529f503f0431e5a64a1acacd062 LIQUID\n",
      "QKAQRoVNcXqZ9ZUQ5vv8qqTgZXfYWvJyDM -> 76a914f0315c15ef24284b4804f80becf14844048e6fe987ac UNBLINDED LIQUID\n",
      "Pz7eBTfLoVaisE57DLn6rZhEtFNa7SnZ2Z -> 76a9141f4133bed29660d80240ab1a4cb5b09ddefd1b8787ac UNBLINDED LIQUID\n",
      "CTEnQXZL65tp6pDg27fQB8GYuZfpgkW798A6qCm3zDpbWu6jDbjxP2cAeN2GEiYJ41dgbBPXY5XUjU7T -> 76a91449d76db89c4452e05787d1bb54b21e2643c7d24a87ac 0264816a2cba23943a0d8618062eb0c5e6e18ed3c3b3654ca9df46d440310c8948 LIQUID-REGTEST\n"
     ]
    }
   ],
   "source": [
    "testcases = [\"QLFdUboUPJnUzvsXKu83hUtrQ1DuxyggRg\", \n",
    "             \"VJLK52qZR5tgHBAQzqtwSDq9qSUpy1CWQd2KbMGvaZA9jKmEcxRnEUXiMb9jijFSMbC3TKzbRbLLcDjo\",\n",
    "             \"QKAQRoVNcXqZ9ZUQ5vv8qqTgZXfYWvJyDM\",\n",
    "             \"Pz7eBTfLoVaisE57DLn6rZhEtFNa7SnZ2Z\",\n",
    "             \"CTEnQXZL65tp6pDg27fQB8GYuZfpgkW798A6qCm3zDpbWu6jDbjxP2cAeN2GEiYJ41dgbBPXY5XUjU7T\"]\n",
    "\n",
    "for address in testcases:\n",
    "    (script, pubkey, network) = get_script_pub_key(address)\n",
    "    print(address, \"->\", w.hex_from_bytes(script), \"UNBLINDED\" if pubkey is None else w.hex_from_bytes(pubkey), network)"
   ]
  }
 ],
 "metadata": {
  "kernelspec": {
   "display_name": "Python 3",
   "language": "python",
   "name": "python3"
  },
  "language_info": {
   "codemirror_mode": {
    "name": "ipython",
    "version": 3
   },
   "file_extension": ".py",
   "mimetype": "text/x-python",
   "name": "python",
   "nbconvert_exporter": "python",
   "pygments_lexer": "ipython3",
   "version": "3.7.4"
  }
 },
 "nbformat": 4,
 "nbformat_minor": 2
}
