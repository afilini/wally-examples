{
 "cells": [
  {
   "cell_type": "code",
   "execution_count": 1,
   "metadata": {},
   "outputs": [
    {
     "name": "stdout",
     "output_type": "stream",
     "text": [
      "Private key (in hex) 44b2add04dd36b6205f77b7121bd80af60c41f96d381d3eb20c48691c52be020\n",
      "Public key (in hex) 02141ee6860a2cce1fd815eeb7c92ea8bc379231c45f069a9dad8bdad13134d82b\n"
     ]
    }
   ],
   "source": [
    "import os\n",
    "import wallycore as w\n",
    "\n",
    "h2b = w.hex_to_bytes\n",
    "b2h = w.hex_from_bytes\n",
    "\n",
    "while True: # Iterate until valid\n",
    "    try:\n",
    "        priv =  bytes(os.urandom(32))\n",
    "        pub = w.ec_public_key_from_private_key(priv)\n",
    "        break\n",
    "    except ValueError:\n",
    "        pass\n",
    "\n",
    "print(\"Private key (in hex) {}\".format(b2h(priv)))\n",
    "print(\"Public key (in hex) {}\".format(b2h(pub)))"
   ]
  }
 ],
 "metadata": {
  "kernelspec": {
   "display_name": "Python 3",
   "language": "python",
   "name": "python3"
  },
  "language_info": {
   "codemirror_mode": {
    "name": "ipython",
    "version": 3
   },
   "file_extension": ".py",
   "mimetype": "text/x-python",
   "name": "python",
   "nbconvert_exporter": "python",
   "pygments_lexer": "ipython3",
   "version": "3.7.4"
  }
 },
 "nbformat": 4,
 "nbformat_minor": 4
}
