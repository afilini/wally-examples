{
 "cells": [
  {
   "cell_type": "code",
   "execution_count": 1,
   "metadata": {},
   "outputs": [
    {
     "name": "stdout",
     "output_type": "stream",
     "text": [
      "Private key (in hex) dadd020e6eb813511ad2f4820e5a8ae1563456d8e17805a708fc1d2da3253fb0\n",
      "Public key (in hex) 03b93f1b80102fc4d7718bd7b3c22f914eae7c3d3647e5802c2c00ffa0e18fcb47\n"
     ]
    }
   ],
   "source": [
    "import os\n",
    "import wallycore as wally\n",
    "\n",
    "h2b = wally.hex_to_bytes\n",
    "b2h = wally.hex_from_bytes\n",
    "\n",
    "while True: # Iterate until valid\n",
    "    try:\n",
    "        priv =  bytes(os.urandom(32))\n",
    "        pub = wally.ec_public_key_from_private_key(priv)\n",
    "        break\n",
    "    except ValueError:\n",
    "        pass\n",
    "\n",
    "print(\"Private key (in hex) {}\".format(b2h(priv)))\n",
    "print(\"Public key (in hex) {}\".format(b2h(pub)))"
   ]
  }
 ],
 "metadata": {
  "kernelspec": {
   "display_name": "Python 3",
   "language": "python",
   "name": "python3"
  },
  "language_info": {
   "codemirror_mode": {
    "name": "ipython",
    "version": 3
   },
   "file_extension": ".py",
   "mimetype": "text/x-python",
   "name": "python",
   "nbconvert_exporter": "python",
   "pygments_lexer": "ipython3",
   "version": "3.7.4"
  }
 },
 "nbformat": 4,
 "nbformat_minor": 4
}
