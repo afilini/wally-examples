{
 "cells": [
  {
   "cell_type": "code",
   "execution_count": 2,
   "metadata": {},
   "outputs": [],
   "source": [
    "import os\n",
    "import wallycore as wally"
   ]
  },
  {
   "cell_type": "code",
   "execution_count": 6,
   "metadata": {
    "scrolled": true
   },
   "outputs": [
    {
     "name": "stdout",
     "output_type": "stream",
     "text": [
      "Mnemonic: asthma danger pair turkey sense secret regular injury poet wood curtain south section cricket drink brush top cool able globe novel arrange tape young\n",
      "Seed: c49a8da9741a3931f0dfbfac053e7f4e768fadf58730c4f2586c6512505d168127be4208560c0d2eafc182bf92cc3a02508cd653385d281db6918caa423c174d\n",
      "Master key: tprv8ZgxMBicQKsPdKmZEH8d3hGx52AT1W11h8g8sMyECJZUfXE9fFg4ZuEpYfnaNMeaGFG9zxToRdJDkmg8N5UtTTNBokjptR1b6aKW7H3rLUH\n"
     ]
    }
   ],
   "source": [
    "entropy = os.urandom(32)\n",
    "mnemonic = wally.bip39_mnemonic_from_bytes(None, entropy)\n",
    "print('Mnemonic: {}'.format(mnemonic))\n",
    "seed = bytearray(64)\n",
    "password = ''\n",
    "wally.bip39_mnemonic_to_seed(mnemonic, password, seed)\n",
    "print('Seed: {}'.format(seed.hex()))\n",
    "master_key = wally.bip32_key_from_seed(seed, wally.BIP32_VER_TEST_PRIVATE, wally.BIP32_FLAG_SKIP_HASH)\n",
    "print('Master key: {}'.format(wally.bip32_key_to_base58(master_key, 0)))"
   ]
  },
  {
   "cell_type": "code",
   "execution_count": null,
   "metadata": {},
   "outputs": [],
   "source": []
  }
 ],
 "metadata": {
  "kernelspec": {
   "display_name": "Python 3",
   "language": "python",
   "name": "python3"
  },
  "language_info": {
   "codemirror_mode": {
    "name": "ipython",
    "version": 3
   },
   "file_extension": ".py",
   "mimetype": "text/x-python",
   "name": "python",
   "nbconvert_exporter": "python",
   "pygments_lexer": "ipython3",
   "version": "3.7.7"
  }
 },
 "nbformat": 4,
 "nbformat_minor": 2
}
