{
 "cells": [
  {
   "cell_type": "code",
   "execution_count": 1,
   "metadata": {},
   "outputs": [],
   "source": [
    "import os\n",
    "import wallycore as wally"
   ]
  },
  {
   "cell_type": "code",
   "execution_count": 2,
   "metadata": {
    "scrolled": true
   },
   "outputs": [
    {
     "name": "stdout",
     "output_type": "stream",
     "text": [
      "open wheel dirt room culture eager spring parrot summer foil gun scissors crash favorite embark filter guilt keen hunt virus shine apart soda verify\n",
      "tprv8ZgxMBicQKsPeDab3E4FRWRYnK8vb5jXNsDtV1FDTb91D9dMt8kvd1PJETLmyScXcGYbj6smxEZhSd84r3mTdPjp5LWzqoCywWZ4dcXRXYg\n"
     ]
    }
   ],
   "source": [
    "seed = os.urandom(32)\n",
    "mnemonic = wally.bip39_mnemonic_from_bytes(None, seed)\n",
    "print(mnemonic)\n",
    "master_key = wally.bip32_key_from_seed(seed, wally.BIP32_VER_TEST_PRIVATE, wally.BIP32_FLAG_SKIP_HASH)\n",
    "print(wally.bip32_key_to_base58(master_key, 0))"
   ]
  }
 ],
 "metadata": {
  "kernelspec": {
   "display_name": "Python 3",
   "language": "python",
   "name": "python3"
  },
  "language_info": {
   "codemirror_mode": {
    "name": "ipython",
    "version": 3
   },
   "file_extension": ".py",
   "mimetype": "text/x-python",
   "name": "python",
   "nbconvert_exporter": "python",
   "pygments_lexer": "ipython3",
   "version": "3.7.4"
  }
 },
 "nbformat": 4,
 "nbformat_minor": 2
}
