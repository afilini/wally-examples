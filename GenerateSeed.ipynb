{
 "cells": [
  {
   "cell_type": "code",
   "execution_count": 1,
   "metadata": {},
   "outputs": [],
   "source": [
    "import os\n",
    "import wallycore as wally"
   ]
  },
  {
   "cell_type": "code",
   "execution_count": 2,
   "metadata": {
    "scrolled": true
   },
   "outputs": [
    {
     "name": "stdout",
     "output_type": "stream",
     "text": [
      "poem force liar broccoli burden nothing empower tissue icon region ramp inject pulp verb pudding moral crouch feel thank select other birth grow syrup\n",
      "tprv8ZgxMBicQKsPdu5abp8BCNXbTyDFzxnNG2Yu9xAYELq3Nd8rrMH84y2KntjeCGJJNri4bpCzUUGUF18bFszZfBeyUsX5zUUyJBbFCVnRMAE\n"
     ]
    }
   ],
   "source": [
    "seed = os.urandom(32)\n",
    "mnemonic = wally.bip39_mnemonic_from_bytes(None, seed)\n",
    "print(mnemonic)\n",
    "master_key = wally.bip32_key_from_seed(seed, wally.BIP32_VER_TEST_PRIVATE, wally.BIP32_FLAG_SKIP_HASH)\n",
    "print(wally.bip32_key_to_base58(master_key, 0))"
   ]
  }
 ],
 "metadata": {
  "kernelspec": {
   "display_name": "Python 3",
   "language": "python",
   "name": "python3"
  },
  "language_info": {
   "codemirror_mode": {
    "name": "ipython",
    "version": 3
   },
   "file_extension": ".py",
   "mimetype": "text/x-python",
   "name": "python",
   "nbconvert_exporter": "python",
   "pygments_lexer": "ipython3",
   "version": "3.7.4"
  }
 },
 "nbformat": 4,
 "nbformat_minor": 2
}
