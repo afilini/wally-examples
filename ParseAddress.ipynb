{
 "cells": [
  {
   "cell_type": "code",
   "execution_count": 1,
   "metadata": {},
   "outputs": [],
   "source": [
    "import wallycore as wally"
   ]
  },
  {
   "cell_type": "code",
   "execution_count": 2,
   "metadata": {},
   "outputs": [],
   "source": [
    "PREFIXES = {\n",
    "        \"MAINNET\" : {\"P2PKH\": 0, \"P2SH\" : 5, \"BECH32\" : \"bc\"},\n",
    "        \"TESTNET\" : {\"P2PKH\": 111, \"P2SH\" : 196, \"BECH32\" : \"tb\"}\n",
    "}"
   ]
  },
  {
   "cell_type": "code",
   "execution_count": 3,
   "metadata": {},
   "outputs": [],
   "source": [
    "def find_address_type(address_string):\n",
    "    for network in PREFIXES:\n",
    "        if PREFIXES[network][\"BECH32\"] == address_string[:2].lower() :\n",
    "            return (network, \"BECH32\")\n",
    "\n",
    "    try:\n",
    "        address_bytes = wally.base58_to_bytes(address_string, wally.BASE58_FLAG_CHECKSUM)\n",
    "        if len(address_bytes) != 21:\n",
    "            raise Exception(\"Invalid length\")\n",
    "        first_byte = address_bytes[0]\n",
    "        for network in PREFIXES:\n",
    "            for address_type in PREFIXES[network]:\n",
    "                if PREFIXES[network][address_type] == first_byte:\n",
    "                    return (network, address_type)\n",
    "    except:\n",
    "        pass\n",
    "    \n",
    "    raise Exception(\"Invalid address\")"
   ]
  },
  {
   "cell_type": "code",
   "execution_count": 4,
   "metadata": {},
   "outputs": [],
   "source": [
    "def extract_data_bech32(address_string, network):\n",
    "    return wally.addr_segwit_to_bytes(address_string, PREFIXES[network][\"BECH32\"], 0)\n",
    "\n",
    "def extract_data(address_string): \n",
    "    address_bytes = wally.base58_to_bytes(address_string, wally.BASE58_FLAG_CHECKSUM)\n",
    "    return address_bytes[1:]\n"
   ]
  },
  {
   "cell_type": "code",
   "execution_count": 5,
   "metadata": {},
   "outputs": [],
   "source": [
    "def get_script_pub_key(address_string):\n",
    "    (network, address_type) = find_address_type(address_string)\n",
    "    if address_type == \"BECH32\":\n",
    "        return (extract_data_bech32(address_string, network), network)\n",
    "    data = extract_data(address_string)\n",
    "    \n",
    "    if address_type == \"P2PKH\":\n",
    "        #<ScriptPubKey=OP_DUP OP_HASH160<Public KeyHash> OP_EQUAL OP_CHECKSIG\n",
    "        return (bytearray([wally.OP_DUP, wally.OP_HASH160, 20]) + data + bytearray([wally.OP_EQUAL, wally.OP_CHECKSIG]), network) \n",
    "        \n",
    "    if address_type == \"P2SH\":\n",
    "        #<ScriptPubKey=OP_HASH160<ScriptHash> OP_EQUAL\n",
    "        return (bytearray([wally.OP_HASH160, 20]) + data + bytearray([wally.OP_EQUAL]), network)\n"
   ]
  },
  {
   "cell_type": "code",
   "execution_count": 6,
   "metadata": {},
   "outputs": [
    {
     "name": "stdout",
     "output_type": "stream",
     "text": [
      "BC1QW508D6QEJXTDG4Y5R3ZARVARY0C5XW7KV8F3T4 -> 0014751e76e8199196d454941c45d1b3a323f1433bd6 MAINNET\n",
      "tb1qnf2g836zetxxzj6wzqgneauwp2xynzl56e88gl06938q085wc5eqynu2h6 -> 00209a5483c742cacc614b4e10113cf78e0a8c498bf4d64e747dfa2c4e079e8ec532 TESTNET\n",
      "2N16oE62ZjAPup985dFBQYAuy5zpDraH7Hk -> a9145629021f7668d4ec310ac5e99701a6d6cf95eb8f87 TESTNET\n",
      "35c5G57dKKaQDpkR8FfyCADuJsssoHgdnH -> a9142af1356a5fd14e96443c8039ef2d6d0679face5d87 MAINNET\n",
      "1H4R6GA8S23uuQSeBi8ySLm965g2eCD8Za -> 76a914b0275ece9a509c048f79a13f8de88ad19a8d538b87ac MAINNET\n"
     ]
    }
   ],
   "source": [
    "testcases = [\"BC1QW508D6QEJXTDG4Y5R3ZARVARY0C5XW7KV8F3T4\", \n",
    "             \"tb1qnf2g836zetxxzj6wzqgneauwp2xynzl56e88gl06938q085wc5eqynu2h6\",\n",
    "             \"2N16oE62ZjAPup985dFBQYAuy5zpDraH7Hk\",\n",
    "             \"35c5G57dKKaQDpkR8FfyCADuJsssoHgdnH\",\n",
    "             \"1H4R6GA8S23uuQSeBi8ySLm965g2eCD8Za\"]\n",
    "for address in testcases:\n",
    "    (script, network) = get_script_pub_key(address)\n",
    "    print(address, \"->\", wally.hex_from_bytes(script), network)"
   ]
  }
 ],
 "metadata": {
  "kernelspec": {
   "display_name": "Python 3",
   "language": "python",
   "name": "python3"
  },
  "language_info": {
   "codemirror_mode": {
    "name": "ipython",
    "version": 3
   },
   "file_extension": ".py",
   "mimetype": "text/x-python",
   "name": "python",
   "nbconvert_exporter": "python",
   "pygments_lexer": "ipython3",
   "version": "3.7.4"
  }
 },
 "nbformat": 4,
 "nbformat_minor": 2
}
