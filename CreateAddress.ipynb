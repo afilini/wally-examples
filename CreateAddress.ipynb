{
 "cells": [
  {
   "cell_type": "code",
   "execution_count": 18,
   "metadata": {},
   "outputs": [],
   "source": [
    "import os\n",
    "import wallycore as w"
   ]
  },
  {
   "cell_type": "code",
   "execution_count": 8,
   "metadata": {},
   "outputs": [],
   "source": [
    "data = {\"MAINNET\": {\"prefix\": 0x80, \"version\": 0x00},\n",
    "        \"TESTNET\": {\"prefix\": 0xEF, \"version\": 0x6F}}"
   ]
  },
  {
   "cell_type": "code",
   "execution_count": 24,
   "metadata": {},
   "outputs": [],
   "source": [
    "def getAddress(network, priv):\n",
    "    wif_priv = w.wif_from_bytes(priv, data[network][\"prefix\"], w.WALLY_WIF_FLAG_COMPRESSED)\n",
    "    print(\"Private key (in wif) {}\".format(wif_priv))\n",
    "    return w.wif_to_address(wif_priv, data[network][\"prefix\"], data[network][\"version\"])\n",
    "\n",
    "def getKeypair():\n",
    "    while True: # Iterate until valid\n",
    "        try:\n",
    "            priv =  bytes(os.urandom(32))\n",
    "            pub = w.ec_public_key_from_private_key(priv)\n",
    "            break\n",
    "        except ValueError:\n",
    "            pass\n",
    "    return (priv, pub)"
   ]
  },
  {
   "cell_type": "code",
   "execution_count": 28,
   "metadata": {},
   "outputs": [
    {
     "name": "stdout",
     "output_type": "stream",
     "text": [
      "Private key (in hex) 2dc6796e58a2729c188f92005de354909050c73591755854abf7ce2d7b966160\n",
      "Public key (in hex) 03233911f1522d450f7d5256bfe507a47215e4b915c6b0b95826cfb0d4128c186b\n",
      "Private key (in wif) cP7gZGfyD26FAyrvf28mHRQpkbtybFSoTFEG812cabbUvwweotL6\n",
      "Address mzDJvuhoWvYyDXQQviaCvULSH6mxMteM8G\n"
     ]
    }
   ],
   "source": [
    "(priv, pub) = getKeypair()\n",
    "print(\"Private key (in hex) {}\".format(w.hex_from_bytes(priv)))\n",
    "print(\"Public key (in hex) {}\".format(w.hex_from_bytes(pub)))\n",
    "print(\"Address {}\".format(getAddress(\"MAINNET\", priv)))"
   ]
  }
 ],
 "metadata": {
  "kernelspec": {
   "display_name": "Python 3",
   "language": "python",
   "name": "python3"
  },
  "language_info": {
   "codemirror_mode": {
    "name": "ipython",
    "version": 3
   },
   "file_extension": ".py",
   "mimetype": "text/x-python",
   "name": "python",
   "nbconvert_exporter": "python",
   "pygments_lexer": "ipython3",
   "version": "3.7.4"
  }
 },
 "nbformat": 4,
 "nbformat_minor": 2
}
