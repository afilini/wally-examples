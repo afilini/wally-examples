{
 "cells": [
  {
   "cell_type": "code",
   "execution_count": 1,
   "metadata": {},
   "outputs": [],
   "source": [
    "import os\n",
    "import wallycore as wally"
   ]
  },
  {
   "cell_type": "code",
   "execution_count": 2,
   "metadata": {},
   "outputs": [],
   "source": [
    "data = {\"MAINNET\": {\"prefix\": 0x80, \"version\": 0x00},\n",
    "        \"TESTNET\": {\"prefix\": 0xEF, \"version\": 0x6F}}"
   ]
  },
  {
   "cell_type": "code",
   "execution_count": 3,
   "metadata": {},
   "outputs": [],
   "source": [
    "def getAddress(network, priv):\n",
    "    wif_priv = wally.wif_from_bytes(priv, data[network][\"prefix\"], wally.WALLY_WIF_FLAG_COMPRESSED)\n",
    "    print(\"Private key (in wif) {}\".format(wif_priv))\n",
    "    return wally.wif_to_address(wif_priv, data[network][\"prefix\"], data[network][\"version\"])\n",
    "\n",
    "def getKeypair():\n",
    "    while True: # Iterate until valid\n",
    "        try:\n",
    "            priv =  bytes(os.urandom(32))\n",
    "            pub = wally.ec_public_key_from_private_key(priv)\n",
    "            break\n",
    "        except ValueError:\n",
    "            pass\n",
    "    return (priv, pub)"
   ]
  },
  {
   "cell_type": "code",
   "execution_count": 4,
   "metadata": {},
   "outputs": [
    {
     "name": "stdout",
     "output_type": "stream",
     "text": [
      "Private key (in hex) 30ccbcbe641a17bf025f7ff55bd43bb3e8375da6dd6ca32388a8f6ccc5928198\n",
      "Public key (in hex) 0262f3005d55fca62e56f30a2d3cc43ba4ec24742d06a964eb62ef71e8d70171bd\n",
      "Private key (in wif) cPDZYn7etfYeW6c9pY7DWixB6X2CYbG1ajmc2HVyVXwcRARgbTfd\n",
      "Address mwyM5cQrYqnDRWwZyHx5fCZcnRcn48Rssb\n"
     ]
    }
   ],
   "source": [
    "(priv, pub) = getKeypair()\n",
    "print(\"Private key (in hex) {}\".format(wally.hex_from_bytes(priv)))\n",
    "print(\"Public key (in hex) {}\".format(wally.hex_from_bytes(pub)))\n",
    "print(\"Address {}\".format(getAddress(\"TESTNET\", priv)))"
   ]
  }
 ],
 "metadata": {
  "kernelspec": {
   "display_name": "Python 3",
   "language": "python",
   "name": "python3"
  },
  "language_info": {
   "codemirror_mode": {
    "name": "ipython",
    "version": 3
   },
   "file_extension": ".py",
   "mimetype": "text/x-python",
   "name": "python",
   "nbconvert_exporter": "python",
   "pygments_lexer": "ipython3",
   "version": "3.7.4"
  }
 },
 "nbformat": 4,
 "nbformat_minor": 2
}
