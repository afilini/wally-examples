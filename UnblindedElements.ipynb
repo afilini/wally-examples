{
 "cells": [
  {
   "cell_type": "code",
   "execution_count": 1,
   "metadata": {},
   "outputs": [
    {
     "name": "stdout",
     "output_type": "stream",
     "text": [
      "pubkey: 026d1b787eb102b4f8fe2627295f57119c26bc4cf019daab3c1fd20c270aa7746c\n",
      "my address: 2dh7NbLFMyZA1Nxe6AYAB7MPr87BpWvCkqs\n"
     ]
    }
   ],
   "source": [
    "import os\n",
    "import functools\n",
    "\n",
    "import wallycore as wally\n",
    "\n",
    "h2b = wally.hex_to_bytes\n",
    "b2h = wally.hex_from_bytes\n",
    "\n",
    "# asset_ids are reversed like txhashes\n",
    "BITCOIN = h2b(\"5ac9f65c0efcc4775e0baec4ec03abdde22473cd3cf33c0419ca290e0751b225\")[::-1]\n",
    "\n",
    "secret_key = h2b(\"eb412c12e06023dd05bb568375ea08238ea8bceb369177a4a2ad1309080a3138\")\n",
    "pubkey = wally.ec_public_key_from_private_key(secret_key)\n",
    "print(\"pubkey: {}\".format(b2h(pubkey)))\n",
    "\n",
    "# prefix \"235\" from: https://github.com/Blockstream/gdk/blob/master/src/network_parameters.cpp#L111 \n",
    "address = wally.base58_from_bytes(bytearray([235]) + wally.hash160(pubkey), wally.BASE58_FLAG_CHECKSUM)\n",
    "print(\"my address: {}\".format(address))"
   ]
  },
  {
   "cell_type": "code",
   "execution_count": 2,
   "metadata": {},
   "outputs": [],
   "source": [
    "# input data\n",
    "in_txhash = h2b(\"8e22a313de4c195c489e3a80376787050d9f361ec70389c53586ff55d4fa2f4a\")[::-1] # reversed\n",
    "in_vout = 0\n",
    "input_scriptpubkey = bytearray([wally.OP_DUP, wally.OP_HASH160, 20]) + wally.hash160(pubkey) + bytearray([wally.OP_EQUALVERIFY, wally.OP_CHECKSIG])\n",
    "\n",
    "# fee\n",
    "fee = 300\n",
    "\n",
    "# output data\n",
    "out_script = bytearray([wally.OP_RETURN, 0x00])\n",
    "out_amount = int(1e8) - fee"
   ]
  },
  {
   "cell_type": "code",
   "execution_count": 3,
   "metadata": {},
   "outputs": [],
   "source": [
    "# create the tx, one input and two outputs (one is for the fee because it's explicit)\n",
    "tx = wally.tx_init(\n",
    "    2, # version\n",
    "    0, # locktime\n",
    "    1, # allocate one input\n",
    "    2, # allocate two outputs\n",
    ")\n",
    "\n",
    "wally.tx_add_elements_raw_input(\n",
    "    tx,\n",
    "    in_txhash, # input txhash (reverted)\n",
    "    in_vout, # input vout\n",
    "    0xffffffff, # sequence number\n",
    "    None, # scriptsig, we will fill this later\n",
    "    None, # witness, null since it's a legacy tx\n",
    "    None, # nonce, used for blinded txs\n",
    "    None, # entropy, used for asset issuances\n",
    "    None, # issuance_amount\n",
    "    None, # inflation keys\n",
    "    None, # issuance_amount_rangeproof\n",
    "    None, # inflation_keys_rangeproof\n",
    "    None, # pegin_witness\n",
    "    0, # wally flag, must be zero\n",
    ")\n",
    "\n",
    "wally.tx_add_elements_raw_output(\n",
    "    tx,\n",
    "    out_script, # script we are paying\n",
    "    bytearray([0x01]) + BITCOIN, # asset_tag, we add 0x01 to show that it's explicit and not blinded\n",
    "    wally.tx_confidential_value_from_satoshi(out_amount), # value, the function will add a prefix to show that it's explicit\n",
    "    None, # nonce, used for blinded txs\n",
    "    None, # surjection_proof, used for blinded txs\n",
    "    None, # range_proof, used for blinded txs\n",
    "    0 # wally flag, must be zero\n",
    ")\n",
    "\n",
    "wally.tx_add_elements_raw_output(\n",
    "    tx,\n",
    "    None, # fees have no script\n",
    "    bytearray([0x01]) + BITCOIN, # asset_tag, we add 0x01 to show that it's explicit and not blinded\n",
    "    wally.tx_confidential_value_from_satoshi(fee), # value, the function will add a prefix to show that it's explicit\n",
    "    None, # nonce, used for blinded txs\n",
    "    None, # surjection_proof, used for blinded txs\n",
    "    None, # range_proof, used for blinded txs\n",
    "    0 # wally flag, must be zero\n",
    ")"
   ]
  },
  {
   "cell_type": "code",
   "execution_count": 4,
   "metadata": {
    "scrolled": true
   },
   "outputs": [
    {
     "name": "stdout",
     "output_type": "stream",
     "text": [
      "unsigned tx: 0200000000014a2ffad455ff8635c58903c71e369f0d05876737803a9e485c194cde13a3228e0000000000ffffffff020125b251070e29ca19043cf33ccd7324e2ddab03ecc4ae0b5e77c4fc0e5cf6c95a010000000005f5dfd400026a000125b251070e29ca19043cf33ccd7324e2ddab03ecc4ae0b5e77c4fc0e5cf6c95a01000000000000012c000000000000\n"
     ]
    }
   ],
   "source": [
    "print(\"unsigned tx: {}\".format(wally.tx_to_hex(tx, 0)))"
   ]
  },
  {
   "cell_type": "code",
   "execution_count": 5,
   "metadata": {},
   "outputs": [
    {
     "name": "stdout",
     "output_type": "stream",
     "text": [
      "signed tx: 0200000000014a2ffad455ff8635c58903c71e369f0d05876737803a9e485c194cde13a3228e000000006a473044022000fc76dcebc54bf707a02c755e0f031fbdf3858fc7ecc6f5f0757a5cec37fc500220145ab0565e84e5bbd36617930baab78d61ddcaf8765fa541a50f216811f2af9a0121026d1b787eb102b4f8fe2627295f57119c26bc4cf019daab3c1fd20c270aa7746cffffffff020125b251070e29ca19043cf33ccd7324e2ddab03ecc4ae0b5e77c4fc0e5cf6c95a010000000005f5dfd400026a000125b251070e29ca19043cf33ccd7324e2ddab03ecc4ae0b5e77c4fc0e5cf6c95a01000000000000012c000000000000\n"
     ]
    }
   ],
   "source": [
    "sighash = wally.tx_get_elements_signature_hash(\n",
    "    tx,\n",
    "    0, # sign input 0\n",
    "    input_scriptpubkey, # scriptpubkey of the input we are signing\n",
    "    None, # value of the input, only used for segwit txs (see bip143)\n",
    "    wally.WALLY_SIGHASH_ALL, # sighash\n",
    "    0, # flags, can be 0 or WALLY_TX_FLAG_USE_WITNESS for bip143 signatures\n",
    ")\n",
    "\n",
    "# make an ECDSA sig and also try to get a shorter R (saves one byte in the final tx almost for free)\n",
    "compact_sig = wally.ec_sig_from_bytes(secret_key, sighash, wally.EC_FLAG_ECDSA | wally.EC_FLAG_GRIND_R)\n",
    "der_sig = wally.ec_sig_to_der(compact_sig)\n",
    "\n",
    "# size of the following element, der_sig + sighash flag + size of the following element (pubkey) + pubkey\n",
    "script_sig = bytearray([len(der_sig) + 1]) + der_sig + bytearray([wally.WALLY_SIGHASH_ALL]) + bytearray([len(pubkey)]) + pubkey\n",
    "\n",
    "# set the scriptsig for input 0\n",
    "wally.tx_set_input_script(tx, 0, script_sig)\n",
    "\n",
    "print(\"signed tx: {}\".format(wally.tx_to_hex(tx, 0)))"
   ]
  }
 ],
 "metadata": {
  "kernelspec": {
   "display_name": "Python 3",
   "language": "python",
   "name": "python3"
  },
  "language_info": {
   "codemirror_mode": {
    "name": "ipython",
    "version": 3
   },
   "file_extension": ".py",
   "mimetype": "text/x-python",
   "name": "python",
   "nbconvert_exporter": "python",
   "pygments_lexer": "ipython3",
   "version": "3.7.4"
  }
 },
 "nbformat": 4,
 "nbformat_minor": 2
}
